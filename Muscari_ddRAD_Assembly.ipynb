{
 "cells": [
  {
   "cell_type": "markdown",
   "metadata": {},
   "source": [
    "# Phylogeny of *Muscari* using genome wide ddRAD data\n",
    "In this Jupyter Notebook I document the assembly parameter and steps used for the phylogenetic study of **Böhnert *et al.*** (in prep.) **Phylogeny based generic reclassification of *Muscari* sensu lato (Asparagaceae) using plastid and genomic DNA**. Further, the analysis parameter for the Multispecies coalescent using SVDquartet (= tetRAD) and PCA analysis is documented.\n",
    "\n",
    "This Notebook, its code and explanations are based on the work of Deren Eaton and Isaac Overcast and taken from the [Iyprad documentation](https://ipyrad.readthedocs.io/en/master/index.html). Please check out their project on [GitHub](https://github.com/dereneaton/ipyrad) as well as the orginal publication: [Eaton & Overcast (2020) *Bioinformatics*](https://academic.oup.com/bioinformatics/article/36/8/2592/5697088).\n",
    "\n",
    "Prerequisite to reproduce the analyses in this notebook is the installation of (Mini)Conda and `iyprad` and `toytree`. See the respective instructions for [Ipyrad](https://ipyrad.readthedocs.io/en/master/index.html) and [Toytree](https://toytree.readthedocs.io/en/latest/index.html) for more information or follow those two lines for a quick start:\n",
    "\n",
    "```\n",
    "conda install ipyrad -c conda-forge -c bioconda\n",
    "conda install toytree -c conda-forge\n",
    "```"
   ]
  },
  {
   "cell_type": "code",
   "execution_count": null,
   "metadata": {},
   "outputs": [],
   "source": [
    "## import Packages and check for versions\n",
    "import ipyrad as ip\n",
    "import ipyrad.analysis as ipa\n",
    "import ipyparallel as ipp\n",
    "import pandas as pd\n",
    "import toytree\n",
    "import toyplot\n",
    "\n",
    "## print Version of ipyrad und toytree\n",
    "print(\"ipyrad v. {}\".format(ip.__version__))\n",
    "print(\"toytree v. {}\".format(toytree.__version__))\n",
    "\n",
    "## print Version of Python\n",
    "from platform import python_version\n",
    "print(\"Python v.\", python_version())"
   ]
  },
  {
   "cell_type": "markdown",
   "metadata": {},
   "source": [
    "#### Parallel processes on independent Python kernels\n",
    "To start a parallel client you must run the command-line program `ipcluster`. This will essentially start a number of independent Python processes (kernels) which we can then send bits of work to do. The cluster can be stopped and restarted independently of this notebook, which is convenient for working on a cluster where connecting to many cores is not always immediately available.\n",
    "\n",
    "Open a terminal, activate the correct conda environment and type the following command to start an `ipcluster` instance with `N` engines."
   ]
  },
  {
   "cell_type": "code",
   "execution_count": 3,
   "metadata": {},
   "outputs": [],
   "source": [
    "## ipcluster start --n=16"
   ]
  },
  {
   "cell_type": "code",
   "execution_count": null,
   "metadata": {},
   "outputs": [],
   "source": [
    "## connect to cluster\n",
    "ipyclient = ipp.Client()\n",
    "print(ip.cluster_info(ipyclient))"
   ]
  },
  {
   "cell_type": "markdown",
   "metadata": {},
   "source": [
    "## Data Assembly\n",
    "RADseq data can be downloaded here: **XXXX**\n",
    "### Create an Assembly object and modify *ipyrad* params file\n",
    "This object stores the parameters of the assembly and the organization of the data"
   ]
  },
  {
   "cell_type": "code",
   "execution_count": null,
   "metadata": {},
   "outputs": [],
   "source": [
    "## Provide a name for the assembly\n",
    "data = ip.Assembly(\"Muscari\")"
   ]
  },
  {
   "cell_type": "code",
   "execution_count": null,
   "metadata": {},
   "outputs": [],
   "source": [
    "## set parameters\n",
    "data.set_params(\"project_dir\", \"Mus_Assembly\")\n",
    "data.set_params(\"sorted_fastq_path\", \"./Mus_fastq/*.fastq.gz\")\n",
    "data.set_params(\"clust_threshold\", \"0.85\")\n",
    "data.set_params(\"max_Hs_consens\", (0.05))\n",
    "data.set_params(\"restriction_overhang\", ('TGCAG', 'GGCC'))\n",
    "data.set_params(\"output_formats\", \"*\")\n",
    "data.set_params(\"datatype\", \"ddrad\")\n",
    "\n",
    "## see / print all parameters\n",
    "data.get_params()"
   ]
  },
  {
   "cell_type": "markdown",
   "metadata": {},
   "source": [
    "### Assemble the data from step 1 to 6"
   ]
  },
  {
   "cell_type": "code",
   "execution_count": null,
   "metadata": {},
   "outputs": [],
   "source": [
    "## run steps 1 & 2 of the assembly\n",
    "data.run(\"12\", force = True)"
   ]
  },
  {
   "cell_type": "code",
   "execution_count": null,
   "metadata": {},
   "outputs": [],
   "source": [
    "## set cluster treshold to 85 && run assembly steps 3-6\n",
    "data_clust85 = data.branch(\"data_clust85\")\n",
    "data_clust85.set_params(\"clust_threshold\", 0.85)\n",
    "data_clust85.run(\"3456\", force = True)"
   ]
  },
  {
   "cell_type": "code",
   "execution_count": null,
   "metadata": {},
   "outputs": [],
   "source": [
    "## show assemby stats until step 6\n",
    "data_clust85.stats\n",
    "\n",
    "## show assemby stats until step 6 but listed based \n",
    "## on the number of consensus reads (uncomment)\n",
    "# data_clust85.stats.sort_values(by=['reads_consens'])"
   ]
  },
  {
   "cell_type": "code",
   "execution_count": null,
   "metadata": {},
   "outputs": [],
   "source": [
    "## set cluster treshold to 90 && run assembly steps 3-6\n",
    "data_clust90 = data.branch(\"data_clust90\")\n",
    "data_clust90.set_params(\"clust_threshold\", 0.90)\n",
    "data_clust90.run(\"3456\", force = True)"
   ]
  },
  {
   "cell_type": "code",
   "execution_count": null,
   "metadata": {},
   "outputs": [],
   "source": [
    "## show assemby stats until step 6\n",
    "data_clust90.stats\n",
    "\n",
    "## show assemby stats until step 6 but listed based \n",
    "## on the number of consensus reads (uncomment)\n",
    "# data_clust90.stats.sort_values(by=['reads_consens'])"
   ]
  },
  {
   "cell_type": "code",
   "execution_count": null,
   "metadata": {},
   "outputs": [],
   "source": [
    "## set cluster treshold to 95 && run assembly steps 3-6\n",
    "data_clust95 = data.branch(\"data_clust95\")\n",
    "data_clust95.set_params(\"clust_threshold\", 0.95)\n",
    "data_clust95.run(\"3456\", force = True)"
   ]
  },
  {
   "cell_type": "code",
   "execution_count": null,
   "metadata": {},
   "outputs": [],
   "source": [
    "## show assemby stats until step 6\n",
    "data_clust95.stats\n",
    "\n",
    "## show assemby stats until step 6 but listed based \n",
    "## on the number of consensus reads (uncomment)\n",
    "# data_clust95.stats.sort_values(by=['reads_consens'])"
   ]
  },
  {
   "cell_type": "markdown",
   "metadata": {},
   "source": [
    "### Final assembly with different `min_samples_locus` settings for different analysis\n",
    "\n",
    "1. Phylogenetic analysis \n",
    "    - RAxML\n",
    "    - tetRAD\n",
    "2. Population analysis of selected clades\n",
    "    - PCA\n",
    "\n",
    "#### In case comming back to continue from here, load assembly object to continue after step 6"
   ]
  },
  {
   "cell_type": "code",
   "execution_count": null,
   "metadata": {},
   "outputs": [],
   "source": [
    "## load assembly object when comming back\n",
    "data = ip.load_json(\"./Mus_Assembly/Muscari.json\")\n",
    "data_clust85 = ip.load_json(\"./Mus_Assembly/data_clust85.json\")\n",
    "data_clust90 = ip.load_json(\"./Mus_Assembly/data_clust90.json\")\n",
    "\n",
    "## check again the stat-file sorted by number of consensus reads\n",
    "#data_clust85.stats.sort_values(by=['reads_consens'])\n",
    "\n",
    "## check names if needed\n",
    "#data_clust85.stats"
   ]
  },
  {
   "cell_type": "markdown",
   "metadata": {},
   "source": [
    "### 1. Assembly for Phylogenetic analysis\n",
    "In case sequencing failed for some samples, those should be excluded before running step 7. One result of sequencing failure can be a low read number (e.g., < 1000 or 10000 reads after step 6, depending on the average read number). Or you have samples which are outsite the target group and must be therefore excluded from the analysis:\n",
    "\n",
    "Enter those sample names which you wanna have removed in the `keep_list` for loop and make a new subset using the `branch` funktion:"
   ]
  },
  {
   "cell_type": "code",
   "execution_count": null,
   "metadata": {},
   "outputs": [],
   "source": [
    "## exclude samples from assembly with ...\n",
    "keep_list = [i for i in data.samples.keys() if i not in [\n",
    "    ## ... low read number (e.g., < 10000 )\n",
    "    \"\", \"\",\n",
    "    \n",
    "    ## ... other samples to exclude\n",
    "    \"\", \"\", \"\",\n",
    "]]\n",
    "\n",
    "## make a new data branch from the keep_list\n",
    "data = data.branch(\"data\", subsamples = keep_list, force = True)\n",
    "\n",
    "## double check taxon sampling\n",
    "#data.stats.sort_values(by=['reads_consens'])\n",
    "data.stats"
   ]
  },
  {
   "cell_type": "markdown",
   "metadata": {},
   "source": [
    "However, this was not need in this case ...\n",
    "\n",
    "\n",
    "Next, lets identify certain values of missing data to see how the effect the final assembly and the topology and support in subsequent phylogenetic analysis.\n",
    "1. Set the number of outgroup taxa.\n",
    "2. define the percentage of missing data you wanna test\n",
    "3. run a for loop to simply calculate how many sample respresent a certain percentage of missing data"
   ]
  },
  {
   "cell_type": "code",
   "execution_count": 265,
   "metadata": {},
   "outputs": [
    {
     "name": "stdout",
     "output_type": "stream",
     "text": [
      "Number of ingroup taxa: 39\n",
      "Calculate different sets of missing data:\n",
      "10 % =  4\n",
      "15 % =  6\n",
      "20 % =  8\n",
      "25 % =  10\n",
      "30 % =  12\n",
      "35 % =  14\n",
      "40 % =  16\n"
     ]
    }
   ],
   "source": [
    "## First check number of remaining samples\n",
    "ingroup = data.stats.state.count() - 4\n",
    "print(\"Number of ingroup taxa:\", ingroup)\n",
    "print(\"Calculate different sets of missing data:\")\n",
    "\n",
    "## for loop to calculate different values for min_sample_locus\n",
    "percent = [10, 15, 20, 25, 30, 35, 40]\n",
    "for i in percent:\n",
    "    res = ingroup / 100 * i\n",
    "    print(i,\"% = \", round(res))"
   ]
  },
  {
   "cell_type": "code",
   "execution_count": null,
   "metadata": {},
   "outputs": [],
   "source": [
    "## Cluster Treshold 85\n",
    "## -------------------\n",
    "## Run the final assembly step 7 through a for loop with different min_sample_locus\n",
    "## based on estimated number of remaining samples MINUS outgroup\n",
    "\n",
    "## First, make a dictionary with the percentage of missing data as keys and \n",
    "## the actual min_sample_locus specified as values based on the number of \"ingroup samples\"\n",
    "sample_dict = {10: 4,\n",
    "               15: 6,\n",
    "               20: 8,\n",
    "               25: 10,\n",
    "               30: 12,\n",
    "               35: 14,\n",
    "               40: 16}\n",
    "\n",
    "## loop over the dictionary \n",
    "for key, value in sample_dict.items():\n",
    "    newname = \"pops{}_clust85\".format(key)\n",
    "    newdata = data_clust85.branch(newname)\n",
    "    newdata.populations = {\n",
    "        \"ingroup\":  (value, [i for i in newdata.samples if \"B\" not in i]),\n",
    "        \"outgroup\": (0,     [i for i in newdata.samples if \"B\" in i]),\n",
    "         }\n",
    "    ## run final step on every interation of the loop\n",
    "    newdata.run(\"7\", force = True)"
   ]
  },
  {
   "cell_type": "code",
   "execution_count": null,
   "metadata": {
    "tags": []
   },
   "outputs": [],
   "source": [
    "## Cluster Treshold 90\n",
    "## -------------------\n",
    "## Run the final assembly step 7 through a for loop with different min_sample_locus\n",
    "## based on estimated number of remaining samples MINUS outgroup\n",
    "\n",
    "## First, make a dictionary with the percentage of missing data as keys and \n",
    "## the actual min_sample_locus specified as values based on the number of \"ingroup samples\"\n",
    "sample_dict = {10: 4,\n",
    "               15: 6,\n",
    "               20: 8,\n",
    "               25: 10,\n",
    "               30: 12,\n",
    "               35: 14,\n",
    "               40: 16}\n",
    "\n",
    "## loop over the dictionary \n",
    "for key, value in sample_dict.items():\n",
    "    newname = \"pops{}_clust90\".format(key)\n",
    "    newdata = data_clust90.branch(newname)\n",
    "    newdata.populations = {\n",
    "        \"ingroup\":  (value, [i for i in newdata.samples if \"B\" not in i]),\n",
    "        \"outgroup\": (0,     [i for i in newdata.samples if \"B\" in i]),\n",
    "         }\n",
    "    ## run final step on every interation of the loop\n",
    "    newdata.run(\"7\", force = True)"
   ]
  },
  {
   "cell_type": "code",
   "execution_count": null,
   "metadata": {},
   "outputs": [],
   "source": [
    "## Cluster Treshold 95\n",
    "## -------------------\n",
    "## Run the final assembly step 7 through a for loop with different min_sample_locus\n",
    "## based on estimated number of remaining samples MINUS outgroup\n",
    "\n",
    "## First, make a dictionary with the percentage of missing data as keys and \n",
    "## the actual min_sample_locus specified as values based on the number of \"ingroup samples\"\n",
    "sample_dict = {10: 4,\n",
    "               15: 6,\n",
    "               20: 8,\n",
    "               25: 10,\n",
    "               30: 12,\n",
    "               35: 14,\n",
    "               40: 16}\n",
    "\n",
    "## loop over the dictionary \n",
    "for key, value in sample_dict.items():\n",
    "    newname = \"pops{}_clust95\".format(key)\n",
    "    newdata = data_clust95.branch(newname)\n",
    "    newdata.populations = {\n",
    "        \"ingroup\":  (value, [i for i in newdata.samples if \"B\" not in i]),\n",
    "        \"outgroup\": (0,     [i for i in newdata.samples if \"B\" in i]),\n",
    "         }\n",
    "    ## run final step on every interation of the loop\n",
    "    newdata.run(\"7\", force = True)"
   ]
  },
  {
   "cell_type": "markdown",
   "metadata": {},
   "source": [
    "### 2. Assembly for PCA analysis with outgroups removed"
   ]
  },
  {
   "cell_type": "code",
   "execution_count": null,
   "metadata": {},
   "outputs": [],
   "source": [
    "## load assembly object when comming back\n",
    "data_clust90 = ip.load_json(\"./Mus_Assembly/data_clust90.json\")\n",
    "\n",
    "## check name\n",
    "#data_clust90.stats"
   ]
  },
  {
   "cell_type": "code",
   "execution_count": null,
   "metadata": {},
   "outputs": [],
   "source": [
    "## Exclude outgroup samples from assembly\n",
    "keep_list = [i for i in data_clust90.samples.keys() if i not in [\n",
    "    \"Bellevalia_dubia_W6083\", \"Bellevalia_paradoxa_ED1272\",\n",
    "    \"Bellevalia_speciosa_W6085\", \"Brimeura_amethystina_W6084\"\n",
    "]]\n",
    "\n",
    "## make a new data branch from the keep_list\n",
    "nout_clust90 = data_clust90.branch(\"nout_clust90\", subsamples = keep_list, force = True)\n",
    "\n",
    "## double check taxon sampling\n",
    "#nout_clust90.stats.sort_values(by=['reads_consens'])\n",
    "nout_clust90.stats"
   ]
  },
  {
   "cell_type": "code",
   "execution_count": null,
   "metadata": {},
   "outputs": [],
   "source": [
    "## run final assembly without outgroups and no missing data allowed for the ingroup\n",
    "nout_clust90.set_params(\"min_samples_locus\", 20)\n",
    "nout_clust90.run(\"7\", force = True)"
   ]
  },
  {
   "cell_type": "markdown",
   "metadata": {},
   "source": [
    "## Phylogenetic downstream analysis\n"
   ]
  },
  {
   "cell_type": "markdown",
   "metadata": {},
   "source": [
    "### 1. RAxML\n",
    "\n",
    "Analysis for this study were performed directly in the RAxML command line tool using a coustom script.\n",
    "The results of those analysis with different clustering thresholds and missing data are plotted below:"
   ]
  },
  {
   "cell_type": "markdown",
   "metadata": {},
   "source": [
    "#### Plot RAxML `clust85` trees together"
   ]
  },
  {
   "cell_type": "code",
   "execution_count": null,
   "metadata": {},
   "outputs": [],
   "source": [
    "## Plot all six clust85 RAxML trees together\n",
    "\n",
    "## Load trees\n",
    "tre15 = toytree.tree(\"/home/tim/GBS/Muscari/Mus_Analysis/Mus_RAxML/Mus_RAxML_clust85_20210812/RAxML_bipartitions.pops_15.phy\")\n",
    "tre20 = toytree.tree(\"/home/tim/GBS/Muscari/Mus_Analysis/Mus_RAxML/Mus_RAxML_clust85_20210812/RAxML_bipartitions.pops_20.phy\")\n",
    "tre25 = toytree.tree(\"/home/tim/GBS/Muscari/Mus_Analysis/Mus_RAxML/Mus_RAxML_clust85_20210812/RAxML_bipartitions.pops_25.phy\")\n",
    "tre30 = toytree.tree(\"/home/tim/GBS/Muscari/Mus_Analysis/Mus_RAxML/Mus_RAxML_clust85_20210812/RAxML_bipartitions.pops_30.phy\")\n",
    "tre35 = toytree.tree(\"/home/tim/GBS/Muscari/Mus_Analysis/Mus_RAxML/Mus_RAxML_clust85_20210812/RAxML_bipartitions.pops_35.phy\")\n",
    "tre40 = toytree.tree(\"/home/tim/GBS/Muscari/Mus_Analysis/Mus_RAxML/Mus_RAxML_clust85_20210812/RAxML_bipartitions.pops_40.phy\")\n",
    "\n",
    "tre15 = tre15.root(wildcard = \"Brimeura\")\n",
    "tre20 = tre20.root(wildcard = \"Brimeura\")\n",
    "tre25 = tre25.root(wildcard = \"Brimeura\")\n",
    "tre30 = tre30.root(wildcard = \"Brimeura\")\n",
    "tre35 = tre35.root(wildcard = \"Brimeura\")\n",
    "tre40 = tre40.root(wildcard = \"Brimeura\")\n",
    "\n",
    "\n",
    "## set dimensions of the canvas\n",
    "canvas = toyplot.Canvas(width = 2000, height = 2000)\n",
    "\n",
    "## dissect canvas into multiple cartesian areas (x1, x2, y1, y2)\n",
    "ax0 = canvas.cartesian(bounds=('2%',  '30%', '5%',  '47.5%'))\n",
    "ax1 = canvas.cartesian(bounds=('33%', '63%', '5%',  '47.5%'))\n",
    "ax2 = canvas.cartesian(bounds=('66%', '96%', '5%',  '47.5%'))\n",
    "ax3 = canvas.cartesian(bounds=('2%',  '30%', '50%', '97.5%'))\n",
    "ax4 = canvas.cartesian(bounds=('33%', '63%', '50%', '97.5%'))\n",
    "ax5 = canvas.cartesian(bounds=('66%', '96%', '50%', '97.5%'))\n",
    "\n",
    "# call draw with the 'axes' argument to pass it to a specific cartesian area\n",
    "style = {\n",
    "    \"tip_labels_align\": True,\n",
    "    \"tip_labels_style\": {\"font-size\": \"11px\"},\n",
    "    \"node_labels_style\":{\"font-size\": \"12px\",\n",
    "                        \"baseline-shift\": \"7px\",\n",
    "                        \"-toyplot-anchor-shift\": \"-13px\"},\n",
    "}\n",
    "tre15.ladderize(1).draw(\n",
    "    axes = ax0,\n",
    "    **style,\n",
    "    node_sizes = 0,\n",
    "    node_labels = 'support');\n",
    "\n",
    "tre20.ladderize(1).draw(\n",
    "    axes = ax1,\n",
    "    **style,\n",
    "    node_sizes = 0,\n",
    "    node_labels = 'support');\n",
    "\n",
    "tre25.ladderize(1).draw(\n",
    "    axes = ax2,\n",
    "    **style,\n",
    "    node_sizes = 0,\n",
    "    node_labels = 'support');\n",
    "\n",
    "tre30.ladderize(1).draw(\n",
    "    axes = ax3,\n",
    "    **style,\n",
    "    node_sizes = 0,\n",
    "    node_labels = 'support');\n",
    "\n",
    "tre35.ladderize(1).draw(\n",
    "    axes = ax4,\n",
    "    **style,\n",
    "    node_sizes = 0,\n",
    "    node_labels = 'support');\n",
    "\n",
    "tre40.ladderize(1).draw(\n",
    "    axes = ax5,\n",
    "    **style,\n",
    "    node_sizes = 0,\n",
    "    node_labels = 'support');\n",
    "\n",
    "## hide the axes (e.g, ticks and splines)\n",
    "ax0.show = False; ax1.show = False; ax2.show = False;\n",
    "ax3.show = False; ax4.show = False; ax5.show = False;\n",
    "\n",
    "## add names for the single trees\n",
    "canvas.text(1000, 50, '<b><i>Muscari</b></i> — RAxML — Clustering threshold 85 %', style = {\"font-size\": \"24px\"})\n",
    "canvas.text(150, 125, '85 % missing data', style={\"font-size\": \"18px\"})\n",
    "canvas.text(800, 125, '80 % missing data', style={\"font-size\": \"18px\"})\n",
    "canvas.text(1450, 125, '75 % missing data', style={\"font-size\": \"18px\"})\n",
    "canvas.text(150, 1025, '70 % missing data', style={\"font-size\": \"18px\"})\n",
    "canvas.text(800, 1025, '65 % missing data', style={\"font-size\": \"18px\"})\n",
    "canvas.text(1450, 1025, '60 % missing data', style={\"font-size\": \"18px\"});"
   ]
  },
  {
   "cell_type": "code",
   "execution_count": 61,
   "metadata": {},
   "outputs": [],
   "source": [
    "import toyplot.pdf\n",
    "toyplot.pdf.render(canvas, \"/home/tim/GBS/Muscari/Mus_Analysis/Mus_RAxML/RAxML_Figures/Suppl-Fig_Mus_RAxML_clust85_20210812_15-20-25-30-35-40_Anno.pdf\");"
   ]
  },
  {
   "cell_type": "markdown",
   "metadata": {},
   "source": [
    "#### Plot RAxML `clust90` trees together"
   ]
  },
  {
   "cell_type": "code",
   "execution_count": null,
   "metadata": {},
   "outputs": [],
   "source": [
    "## Plot all six clust90 RAxML trees together\n",
    "\n",
    "## Load trees\n",
    "tre15 = toytree.tree(\"/home/tim/GBS/Muscari/Mus_Analysis/Mus_RAxML/Mus_RAxML_clust90_20210816/RAxML_bipartitions.pops15_clust90.phy\")\n",
    "tre20 = toytree.tree(\"/home/tim/GBS/Muscari/Mus_Analysis/Mus_RAxML/Mus_RAxML_clust90_20210816/RAxML_bipartitions.pops20_clust90.phy\")\n",
    "tre25 = toytree.tree(\"/home/tim/GBS/Muscari/Mus_Analysis/Mus_RAxML/Mus_RAxML_clust90_20210816/RAxML_bipartitions.pops25_clust90.phy\")\n",
    "tre30 = toytree.tree(\"/home/tim/GBS/Muscari/Mus_Analysis/Mus_RAxML/Mus_RAxML_clust90_20210816/RAxML_bipartitions.pops30_clust90.phy\")\n",
    "tre35 = toytree.tree(\"/home/tim/GBS/Muscari/Mus_Analysis/Mus_RAxML/Mus_RAxML_clust90_20210816/RAxML_bipartitions.pops35_clust90.phy\")\n",
    "tre40 = toytree.tree(\"/home/tim/GBS/Muscari/Mus_Analysis/Mus_RAxML/Mus_RAxML_clust90_20210816/RAxML_bipartitions.pops40_clust90.phy\")\n",
    "\n",
    "tre15 = tre15.root(wildcard = \"Brimeura\")\n",
    "tre20 = tre20.root(wildcard = \"Brimeura\")\n",
    "tre25 = tre25.root(wildcard = \"Brimeura\")\n",
    "tre30 = tre30.root(wildcard = \"Brimeura\")\n",
    "tre35 = tre35.root(wildcard = \"Brimeura\")\n",
    "tre40 = tre40.root(wildcard = \"Brimeura\")\n",
    "\n",
    "\n",
    "## set dimensions of the canvas\n",
    "canvas = toyplot.Canvas(width = 2000, height = 2000)\n",
    "\n",
    "## dissect canvas into multiple cartesian areas (x1, x2, y1, y2)\n",
    "ax0 = canvas.cartesian(bounds=('2%',  '30%', '5%',  '47.5%'))\n",
    "ax1 = canvas.cartesian(bounds=('33%', '63%', '5%',  '47.5%'))\n",
    "ax2 = canvas.cartesian(bounds=('66%', '96%', '5%',  '47.5%'))\n",
    "ax3 = canvas.cartesian(bounds=('2%',  '30%', '50%', '97.5%'))\n",
    "ax4 = canvas.cartesian(bounds=('33%', '63%', '50%', '97.5%'))\n",
    "ax5 = canvas.cartesian(bounds=('66%', '96%', '50%', '97.5%'))\n",
    "\n",
    "# call draw with the 'axes' argument to pass it to a specific cartesian area\n",
    "style = {\n",
    "    \"tip_labels_align\": True,\n",
    "    \"tip_labels_style\": {\"font-size\": \"11px\"},\n",
    "    \"node_labels_style\":{\"font-size\": \"12px\",\n",
    "                        \"baseline-shift\": \"7px\",\n",
    "                        \"-toyplot-anchor-shift\": \"-13px\"},\n",
    "}\n",
    "tre15.ladderize(1).draw(\n",
    "    axes = ax0,\n",
    "    **style,\n",
    "    node_sizes = 0,\n",
    "    node_labels = 'support');\n",
    "\n",
    "tre20.ladderize(1).draw(\n",
    "    axes = ax1,\n",
    "    **style,\n",
    "    node_sizes = 0,\n",
    "    node_labels = 'support');\n",
    "\n",
    "tre25.ladderize(1).draw(\n",
    "    axes = ax2,\n",
    "    **style,\n",
    "    node_sizes = 0,\n",
    "    node_labels = 'support');\n",
    "\n",
    "tre30.ladderize(1).draw(\n",
    "    axes = ax3,\n",
    "    **style,\n",
    "    node_sizes = 0,\n",
    "    node_labels = 'support');\n",
    "\n",
    "tre35.ladderize(1).draw(\n",
    "    axes = ax4,\n",
    "    **style,\n",
    "    node_sizes = 0,\n",
    "    node_labels = 'support');\n",
    "\n",
    "tre40.ladderize(1).draw(\n",
    "    axes = ax5,\n",
    "    **style,\n",
    "    node_sizes = 0,\n",
    "    node_labels = 'support');\n",
    "\n",
    "# hide the axes (e.g, ticks and splines)\n",
    "ax0.show = False; ax1.show = False; ax2.show = False;\n",
    "ax3.show = False; ax4.show = False; ax5.show = False;\n",
    "\n",
    "## add names for the single trees\n",
    "canvas.text(1000, 50, 'RAxML — Clustering threshold 90 %', style = {\"font-size\": \"24px\"})\n",
    "canvas.text(150, 125, '85 % missing data', style={\"font-size\": \"18px\"})\n",
    "canvas.text(800, 125, '80 % missing data', style={\"font-size\": \"18px\"})\n",
    "canvas.text(1450, 125, '75 % missing data', style={\"font-size\": \"18px\"})\n",
    "canvas.text(150, 1025, '70 % missing data', style={\"font-size\": \"18px\"})\n",
    "canvas.text(800, 1025, '65 % missing data', style={\"font-size\": \"18px\"})\n",
    "canvas.text(1450, 1025, '60 % missing data', style={\"font-size\": \"18px\"});"
   ]
  },
  {
   "cell_type": "code",
   "execution_count": null,
   "metadata": {},
   "outputs": [],
   "source": [
    "import toyplot.pdf\n",
    "toyplot.pdf.render(canvas, \"/home/tim/GBS/Muscari/Mus_Analysis/Mus_RAxML/RAxML_Figures/Suppl-Fig_Mus_RAxML_clust90_20210816_15-20-25-30-35-40_Anno.pdf\");"
   ]
  },
  {
   "cell_type": "markdown",
   "metadata": {},
   "source": [
    "#### Plot RAxML `clust95` trees together"
   ]
  },
  {
   "cell_type": "code",
   "execution_count": null,
   "metadata": {},
   "outputs": [],
   "source": [
    "# Plot all six clust90 RAxML trees together\n",
    "\n",
    "## Load trees\n",
    "tre15 = toytree.tree(\"/home/tim/GBS/Muscari/Mus_Analysis/Mus_RAxML/Mus_RAxML_clust95_20210823/RAxML_bipartitions.pops15_clust95.phy\")\n",
    "tre20 = toytree.tree(\"/home/tim/GBS/Muscari/Mus_Analysis/Mus_RAxML/Mus_RAxML_clust95_20210823/RAxML_bipartitions.pops20_clust95.phy\")\n",
    "tre25 = toytree.tree(\"/home/tim/GBS/Muscari/Mus_Analysis/Mus_RAxML/Mus_RAxML_clust95_20210823/RAxML_bipartitions.pops25_clust95.phy\")\n",
    "tre30 = toytree.tree(\"/home/tim/GBS/Muscari/Mus_Analysis/Mus_RAxML/Mus_RAxML_clust95_20210823/RAxML_bipartitions.pops30_clust95.phy\")\n",
    "tre35 = toytree.tree(\"/home/tim/GBS/Muscari/Mus_Analysis/Mus_RAxML/Mus_RAxML_clust95_20210823/RAxML_bipartitions.pops35_clust95.phy\")\n",
    "tre40 = toytree.tree(\"/home/tim/GBS/Muscari/Mus_Analysis/Mus_RAxML/Mus_RAxML_clust95_20210823/RAxML_bipartitions.pops40_clust95.phy\")\n",
    "\n",
    "tre15 = tre15.root(wildcard = \"Brimeura\")\n",
    "tre20 = tre20.root(wildcard = \"Brimeura\")\n",
    "tre25 = tre25.root(wildcard = \"Brimeura\")\n",
    "tre30 = tre30.root(wildcard = \"Brimeura\")\n",
    "tre35 = tre35.root(wildcard = \"Brimeura\")\n",
    "tre40 = tre40.root(wildcard = \"Brimeura\")\n",
    "\n",
    "\n",
    "## set dimensions of the canvas\n",
    "canvas = toyplot.Canvas(width = 2000, height = 2000)\n",
    "\n",
    "## dissect canvas into multiple cartesian areas (x1, x2, y1, y2)\n",
    "ax0 = canvas.cartesian(bounds=('2%',  '30%', '5%',  '47.5%'))\n",
    "ax1 = canvas.cartesian(bounds=('33%', '63%', '5%',  '47.5%'))\n",
    "ax2 = canvas.cartesian(bounds=('66%', '96%', '5%',  '47.5%'))\n",
    "ax3 = canvas.cartesian(bounds=('2%',  '30%', '50%', '97.5%'))\n",
    "ax4 = canvas.cartesian(bounds=('33%', '63%', '50%', '97.5%'))\n",
    "ax5 = canvas.cartesian(bounds=('66%', '96%', '50%', '97.5%'))\n",
    "\n",
    "# call draw with the 'axes' argument to pass it to a specific cartesian area\n",
    "style = {\n",
    "    \"tip_labels_align\": True,\n",
    "    \"tip_labels_style\": {\"font-size\": \"11px\"},\n",
    "    \"node_labels_style\":{\"font-size\": \"12px\",\n",
    "                        \"baseline-shift\": \"7px\",\n",
    "                        \"-toyplot-anchor-shift\": \"-13px\"},\n",
    "}\n",
    "tre15.ladderize(1).draw(\n",
    "    axes = ax0,\n",
    "    **style,\n",
    "    node_sizes = 0,\n",
    "    node_labels = 'support');\n",
    "\n",
    "tre20.ladderize(1).draw(\n",
    "    axes = ax1,\n",
    "    **style,\n",
    "    node_sizes = 0,\n",
    "    node_labels = 'support');\n",
    "\n",
    "tre25.ladderize(1).draw(\n",
    "    axes = ax2,\n",
    "    **style,\n",
    "    node_sizes = 0,\n",
    "    node_labels = 'support');\n",
    "\n",
    "tre30.ladderize(1).draw(\n",
    "    axes = ax3,\n",
    "    **style,\n",
    "    node_sizes = 0,\n",
    "    node_labels = 'support');\n",
    "\n",
    "tre35.ladderize(1).draw(\n",
    "    axes = ax4,\n",
    "    **style,\n",
    "    node_sizes = 0,\n",
    "    node_labels = 'support');\n",
    "\n",
    "tre40.ladderize(1).draw(\n",
    "    axes = ax5,\n",
    "    **style,\n",
    "    node_sizes = 0,\n",
    "    node_labels = 'support');\n",
    "\n",
    "# hide the axes (e.g, ticks and splines)\n",
    "ax0.show = False; ax1.show = False; ax2.show = False;\n",
    "ax3.show = False; ax4.show = False; ax5.show = False;\n",
    "\n",
    "## add names for the single trees\n",
    "canvas.text(1000, 50, 'RAxML — Clustering threshold 95 %', style = {\"font-size\": \"24px\"})\n",
    "canvas.text(150, 125, '85 % missing data', style={\"font-size\": \"18px\"})\n",
    "canvas.text(800, 125, '80 % missing data', style={\"font-size\": \"18px\"})\n",
    "canvas.text(1450, 125, '75 % missing data', style={\"font-size\": \"18px\"})\n",
    "canvas.text(150, 1025, '70 % missing data', style={\"font-size\": \"18px\"})\n",
    "canvas.text(800, 1025, '65 % missing data', style={\"font-size\": \"18px\"})\n",
    "canvas.text(1450, 1025, '60 % missing data', style={\"font-size\": \"18px\"});"
   ]
  },
  {
   "cell_type": "code",
   "execution_count": null,
   "metadata": {},
   "outputs": [],
   "source": [
    "import toyplot.pdf\n",
    "toyplot.pdf.render(canvas, \"/home/tim/GBS/Muscari/Mus_Analysis/Mus_RAxML/RAxML_Figures/Suppl-Fig_Mus_RAxML_clust95_20210823_15-20-25-30-35-40_Anno.pdf\");"
   ]
  },
  {
   "cell_type": "markdown",
   "metadata": {},
   "source": [
    "### tetRAD\n",
    "#### run multiple retRAD analysis in a for loop\n",
    "##### Run tetRAD with clustering theshold `clust90` & Plot trees together"
   ]
  },
  {
   "cell_type": "code",
   "execution_count": 36,
   "metadata": {},
   "outputs": [],
   "source": [
    "## read the *.snps.hdf5 files as values and store those path in a dictionary with assembly names as keys\n",
    "dict = {\n",
    "    \"pop15\": \"/home/tim/GBS/Muscari/Mus_Assembly/pops15_clust85_outfiles/pops15_clust85.snps.hdf5\",\n",
    "    \"pop20\": \"/home/tim/GBS/Muscari/Mus_Assembly/pops20_clust85_outfiles/pops20_clust85.snps.hdf5\",\n",
    "    \"pop25\": \"/home/tim/GBS/Muscari/Mus_Assembly/pops25_clust85_outfiles/pops25_clust85.snps.hdf5\",\n",
    "    \"pop30\": \"/home/tim/GBS/Muscari/Mus_Assembly/pops30_clust85_outfiles/pops30_clust85.snps.hdf5\",\n",
    "    \"pop35\": \"/home/tim/GBS/Muscari/Mus_Assembly/pops35_clust85_outfiles/pops35_clust85.snps.hdf5\",\n",
    "    \"pop40\": \"/home/tim/GBS/Muscari/Mus_Assembly/pops40_clust85_outfiles/pops40_clust85.snps.hdf5\"\n",
    "}"
   ]
  },
  {
   "cell_type": "code",
   "execution_count": null,
   "metadata": {},
   "outputs": [],
   "source": [
    "## Iterate through the dictionary and run a tetRAD anlysis for each assembly\n",
    "\n",
    "for key, value in dict.items():\n",
    "    tet = ipa.tetrad(\n",
    "        name = \"Mus_tet_clust85_\" + str(key),\n",
    "        data = value,\n",
    "        workdir = \"./Mus_Analysis/Mus_tetRAD/tet_clust85\",\n",
    "        nquartets = 1e6,\n",
    "        nboots = 200)\n",
    "    ## run \n",
    "    tet.run(auto = True, force = True)"
   ]
  },
  {
   "cell_type": "code",
   "execution_count": null,
   "metadata": {},
   "outputs": [],
   "source": [
    "## Plot all six clust85 tetRAD coalescent trees together\n",
    "## Load trees\n",
    "tet15 = toytree.tree(\"./Mus_Analysis/Mus_tetRAD/tet_clust85/Mus_tet_pop15.tree.cons\").root(wildcard = \"Brimeura\")\n",
    "tet20 = toytree.tree(\"./Mus_Analysis/Mus_tetRAD/tet_clust85/Mus_tet_pop20.tree.cons\").root(wildcard = \"Brimeura\")\n",
    "tet25 = toytree.tree(\"./Mus_Analysis/Mus_tetRAD/tet_clust85/Mus_tet_pop25.tree.cons\").root(wildcard = \"Brimeura\")\n",
    "tet30 = toytree.tree(\"./Mus_Analysis/Mus_tetRAD/tet_clust85/Mus_tet_pop30.tree.cons\").root(wildcard = \"Brimeura\")\n",
    "tet35 = toytree.tree(\"./Mus_Analysis/Mus_tetRAD/tet_clust85/Mus_tet_pop35.tree.cons\").root(wildcard = \"Brimeura\")\n",
    "tet40 = toytree.tree(\"./Mus_Analysis/Mus_tetRAD/tet_clust85/Mus_tet_pop40.tree.cons\").root(wildcard = \"Brimeura\")\n",
    "\n",
    "## set dimensions of the canvas\n",
    "canvas = toyplot.Canvas(width = 2000, height = 2000)\n",
    "\n",
    "## dissect canvas into multiple cartesian areas (x1, x2, y1, y2)\n",
    "ax0 = canvas.cartesian(bounds=('2%',  '30%', '5%',  '47.5%'))\n",
    "ax1 = canvas.cartesian(bounds=('33%', '63%', '5%',  '47.5%'))\n",
    "ax2 = canvas.cartesian(bounds=('66%', '96%', '5%',  '47.5%'))\n",
    "ax3 = canvas.cartesian(bounds=('2%',  '30%', '50%', '97.5%'))\n",
    "ax4 = canvas.cartesian(bounds=('33%', '63%', '50%', '97.5%'))\n",
    "ax5 = canvas.cartesian(bounds=('66%', '96%', '50%', '97.5%'))\n",
    "\n",
    "## define style ones and use it for every tree\n",
    "style = {\n",
    "    \"tip_labels_align\": True,\n",
    "    \"tip_labels_style\": {\"font-size\": \"11px\"},\n",
    "    \"node_labels_style\":{\"font-size\": \"12px\",\n",
    "                        \"baseline-shift\": \"7px\",\n",
    "                        \"-toyplot-anchor-shift\": \"-13px\"},\n",
    "}\n",
    "tet15.ladderize(1).draw(\n",
    "    axes = ax0,\n",
    "    **style,\n",
    "    node_sizes = 0,\n",
    "    node_labels = 'support');\n",
    "\n",
    "tet20.ladderize(1).draw(\n",
    "    axes = ax1,\n",
    "    **style,\n",
    "    node_sizes = 0,\n",
    "    node_labels = 'support');\n",
    "\n",
    "tet25.ladderize(1).draw(\n",
    "    axes = ax2,\n",
    "    **style,\n",
    "    node_sizes = 0,\n",
    "    node_labels = 'support');\n",
    "\n",
    "tet30.ladderize(1).draw(\n",
    "    axes = ax3,\n",
    "    **style,\n",
    "    node_sizes = 0,\n",
    "    node_labels = 'support');\n",
    "\n",
    "tet35.ladderize(1).draw(\n",
    "    axes = ax4,\n",
    "    **style,\n",
    "    node_sizes = 0,\n",
    "    node_labels = 'support');\n",
    "\n",
    "tet40.ladderize(1).draw(\n",
    "    axes = ax5,\n",
    "    **style,\n",
    "    node_sizes = 0,\n",
    "    node_labels = 'support');\n",
    "\n",
    "## hide the axes (e.g, ticks and splines)\n",
    "ax0.show = False; ax1.show = False; ax2.show = False;\n",
    "ax3.show = False; ax4.show = False; ax5.show = False;\n",
    "\n",
    "## add names for the single trees\n",
    "canvas.text(1000, 50, 'tetRAD/SVDQuartet — Clustering threshold 85 %', style = {\"font-size\": \"24px\"})\n",
    "canvas.text(150, 125, '85 % missing data', style={\"font-size\": \"18px\"})\n",
    "canvas.text(800, 125, '80 % missing data', style={\"font-size\": \"18px\"})\n",
    "canvas.text(1450, 125, '75 % missing data', style={\"font-size\": \"18px\"})\n",
    "canvas.text(150, 1025, '70 % missing data', style={\"font-size\": \"18px\"})\n",
    "canvas.text(800, 1025, '65 % missing data', style={\"font-size\": \"18px\"})\n",
    "canvas.text(1450, 1025, '60 % missing data', style={\"font-size\": \"18px\"});"
   ]
  },
  {
   "cell_type": "code",
   "execution_count": 8,
   "metadata": {},
   "outputs": [],
   "source": [
    "import toyplot.pdf\n",
    "toyplot.pdf.render(canvas, \"/home/tim/GBS/Muscari/Mus_Analysis/Mus_tetRAD/tetRAD_Figures/Suppl-Fig_Mus_tetRAD-consens_clust85_20210811_15-20-25-30-35-40_Anno.pdf\");"
   ]
  },
  {
   "cell_type": "markdown",
   "metadata": {},
   "source": [
    "##### Run tetRAD with clustering theshold `clust90` & Plot trees together"
   ]
  },
  {
   "cell_type": "code",
   "execution_count": null,
   "metadata": {},
   "outputs": [],
   "source": [
    "## read the *.snps.hdf5 files as values and store those path in a dictionary with assembly names as keys\n",
    "dict = {\n",
    "    \"pop15\": \"/home/tim/GBS/Muscari/Mus_Assembly/pops15_clust90_outfiles/pops15_clust90.snps.hdf5\",\n",
    "    \"pop20\": \"/home/tim/GBS/Muscari/Mus_Assembly/pops20_clust90_outfiles/pops20_clust90.snps.hdf5\",\n",
    "    \"pop25\": \"/home/tim/GBS/Muscari/Mus_Assembly/pops25_clust90_outfiles/pops25_clust90.snps.hdf5\",\n",
    "    \"pop30\": \"/home/tim/GBS/Muscari/Mus_Assembly/pops30_clust90_outfiles/pops30_clust90.snps.hdf5\",\n",
    "    \"pop35\": \"/home/tim/GBS/Muscari/Mus_Assembly/pops35_clust90_outfiles/pops35_clust90.snps.hdf5\",\n",
    "    \"pop40\": \"/home/tim/GBS/Muscari/Mus_Assembly/pops40_clust90_outfiles/pops40_clust90.snps.hdf5\"\n",
    "}"
   ]
  },
  {
   "cell_type": "code",
   "execution_count": null,
   "metadata": {},
   "outputs": [],
   "source": [
    "## Iterate through the dictionary and run a tetRAD anlysis for each assembly\n",
    "\n",
    "for key, value in dict.items():\n",
    "    tet = ipa.tetrad(\n",
    "        name = \"Mus_tet_clust90_\" + str(key),\n",
    "        data = value,\n",
    "        workdir = \"./Mus_Analysis/Mus_tetRAD/tet_clust90\",\n",
    "        nquartets = 1e6,\n",
    "        nboots = 200)\n",
    "    ## run \n",
    "    tet.run(auto = True, force = True)"
   ]
  },
  {
   "cell_type": "code",
   "execution_count": null,
   "metadata": {},
   "outputs": [],
   "source": [
    "## Plot all six clust90 tetRAD coalescent trees together\n",
    "## Load trees\n",
    "tet15 = toytree.tree(\"./Mus_Analysis/Mus_tetRAD/tet_clust90/Mus_tet_clust90_pop15.tree.cons\").root(wildcard = \"Brimeura\")\n",
    "tet20 = toytree.tree(\"./Mus_Analysis/Mus_tetRAD/tet_clust90/Mus_tet_clust90_pop20.tree.cons\").root(wildcard = \"Brimeura\")\n",
    "tet25 = toytree.tree(\"./Mus_Analysis/Mus_tetRAD/tet_clust90/Mus_tet_clust90_pop25.tree.cons\").root(wildcard = \"Brimeura\")\n",
    "tet30 = toytree.tree(\"./Mus_Analysis/Mus_tetRAD/tet_clust90/Mus_tet_clust90_pop30.tree.cons\").root(wildcard = \"Brimeura\")\n",
    "tet35 = toytree.tree(\"./Mus_Analysis/Mus_tetRAD/tet_clust90/Mus_tet_clust90_pop35.tree.cons\").root(wildcard = \"Brimeura\")\n",
    "tet40 = toytree.tree(\"./Mus_Analysis/Mus_tetRAD/tet_clust90/Mus_tet_clust90_pop40.tree.cons\").root(wildcard = \"Brimeura\")\n",
    "\n",
    "## set dimensions of the canvas\n",
    "canvas = toyplot.Canvas(width = 2000, height = 2000)\n",
    "\n",
    "## dissect canvas into multiple cartesian areas (x1, x2, y1, y2)\n",
    "ax0 = canvas.cartesian(bounds=('2%',  '30%', '5%',  '47.5%'))\n",
    "ax1 = canvas.cartesian(bounds=('33%', '63%', '5%',  '47.5%'))\n",
    "ax2 = canvas.cartesian(bounds=('66%', '96%', '5%',  '47.5%'))\n",
    "ax3 = canvas.cartesian(bounds=('2%',  '30%', '50%', '97.5%'))\n",
    "ax4 = canvas.cartesian(bounds=('33%', '63%', '50%', '97.5%'))\n",
    "ax5 = canvas.cartesian(bounds=('66%', '96%', '50%', '97.5%'))\n",
    "\n",
    "## define style ones and use it for every tree\n",
    "style = {\n",
    "    \"tip_labels_align\": True,\n",
    "    \"tip_labels_style\": {\"font-size\": \"11px\"},\n",
    "    \"node_labels_style\":{\"font-size\": \"12px\",\n",
    "                        \"baseline-shift\": \"7px\",\n",
    "                        \"-toyplot-anchor-shift\": \"-13px\"},\n",
    "}\n",
    "tet15.ladderize(1).draw(\n",
    "    axes = ax0,\n",
    "    **style,\n",
    "    node_sizes = 0,\n",
    "    node_labels = 'support');\n",
    "\n",
    "tet20.ladderize(1).draw(\n",
    "    axes = ax1,\n",
    "    **style,\n",
    "    node_sizes = 0,\n",
    "    node_labels = 'support');\n",
    "\n",
    "tet25.ladderize(1).draw(\n",
    "    axes = ax2,\n",
    "    **style,\n",
    "    node_sizes = 0,\n",
    "    node_labels = 'support');\n",
    "\n",
    "tet30.ladderize(1).draw(\n",
    "    axes = ax3,\n",
    "    **style,\n",
    "    node_sizes = 0,\n",
    "    node_labels = 'support');\n",
    "\n",
    "tet35.ladderize(1).draw(\n",
    "    axes = ax4,\n",
    "    **style,\n",
    "    node_sizes = 0,\n",
    "    node_labels = 'support');\n",
    "\n",
    "tet40.ladderize(1).draw(\n",
    "    axes = ax5,\n",
    "    **style,\n",
    "    node_sizes = 0,\n",
    "    node_labels = 'support');\n",
    "\n",
    "## hide the axes (e.g, ticks and splines)\n",
    "ax0.show = False; ax1.show = False; ax2.show = False;\n",
    "ax3.show = False; ax4.show = False; ax5.show = False;\n",
    "\n",
    "## add names for the single trees\n",
    "canvas.text(1000, 50, 'tetRAD/SVDQuartet — Clustering threshold 90 %', style = {\"font-size\": \"24px\"})\n",
    "canvas.text(150, 125, '85 % missing data', style={\"font-size\": \"18px\"})\n",
    "canvas.text(800, 125, '80 % missing data', style={\"font-size\": \"18px\"})\n",
    "canvas.text(1450, 125, '75 % missing data', style={\"font-size\": \"18px\"})\n",
    "canvas.text(150, 1025, '70 % missing data', style={\"font-size\": \"18px\"})\n",
    "canvas.text(800, 1025, '65 % missing data', style={\"font-size\": \"18px\"})\n",
    "canvas.text(1450, 1025, '60 % missing data', style={\"font-size\": \"18px\"});"
   ]
  },
  {
   "cell_type": "code",
   "execution_count": null,
   "metadata": {},
   "outputs": [],
   "source": [
    "import toyplot.pdf\n",
    "toyplot.pdf.render(canvas, \"/home/tim/GBS/Muscari/Mus_Analysis/Mus_tetRAD/tetRAD_Figures/Suppl-Fig_Mus_tetRAD-consens_clust90_20210816_15-20-25-30-35-40_Anno.pdf\");"
   ]
  },
  {
   "cell_type": "markdown",
   "metadata": {},
   "source": [
    "##### Run tetRAD with clustering theshold `clust95` & Plot trees together"
   ]
  },
  {
   "cell_type": "code",
   "execution_count": null,
   "metadata": {},
   "outputs": [],
   "source": [
    "## read the *.snps.hdf5 files as values and store those path in a dictionary with assembly names as keys\n",
    "dict = {\n",
    "    \"pop15\": \"/home/tim/GBS/Muscari/Mus_Assembly/pops15_clust95_outfiles/pops15_clust95.snps.hdf5\",\n",
    "    \"pop20\": \"/home/tim/GBS/Muscari/Mus_Assembly/pops20_clust95_outfiles/pops20_clust95.snps.hdf5\",\n",
    "    \"pop25\": \"/home/tim/GBS/Muscari/Mus_Assembly/pops25_clust95_outfiles/pops25_clust95.snps.hdf5\",\n",
    "    \"pop30\": \"/home/tim/GBS/Muscari/Mus_Assembly/pops30_clust95_outfiles/pops30_clust95.snps.hdf5\",\n",
    "    \"pop35\": \"/home/tim/GBS/Muscari/Mus_Assembly/pops35_clust95_outfiles/pops35_clust95.snps.hdf5\",\n",
    "    \"pop40\": \"/home/tim/GBS/Muscari/Mus_Assembly/pops40_clust95_outfiles/pops40_clust95.snps.hdf5\"\n",
    "}"
   ]
  },
  {
   "cell_type": "code",
   "execution_count": null,
   "metadata": {},
   "outputs": [],
   "source": [
    "## Iterate through the dictionary and run a tetRAD anlysis for each assembly\n",
    "\n",
    "for key, value in dict.items():\n",
    "    tet = ipa.tetrad(\n",
    "        name = \"Mus_tet_clust95_\" + str(key),\n",
    "        data = value,\n",
    "        workdir = \"./Mus_Analysis/Mus_tetRAD/tet_clust95\",\n",
    "        nquartets = 1e6,\n",
    "        nboots = 200)\n",
    "    ## run \n",
    "    tet.run(auto = True, force = True)"
   ]
  },
  {
   "cell_type": "code",
   "execution_count": null,
   "metadata": {},
   "outputs": [],
   "source": [
    "## Plot all six clust95 tetRAD coalescent trees together\n",
    "## Load trees\n",
    "tet15 = toytree.tree(\"./Mus_Analysis/Mus_tetRAD/tet_clust95/Mus_tet_clust95_pop15.tree.cons\").root(wildcard = \"Brimeura\")\n",
    "tet20 = toytree.tree(\"./Mus_Analysis/Mus_tetRAD/tet_clust95/Mus_tet_clust95_pop20.tree.cons\").root(wildcard = \"Brimeura\")\n",
    "tet25 = toytree.tree(\"./Mus_Analysis/Mus_tetRAD/tet_clust95/Mus_tet_clust95_pop25.tree.cons\").root(wildcard = \"Brimeura\")\n",
    "tet30 = toytree.tree(\"./Mus_Analysis/Mus_tetRAD/tet_clust95/Mus_tet_clust95_pop30.tree.cons\").root(wildcard = \"Brimeura\")\n",
    "tet35 = toytree.tree(\"./Mus_Analysis/Mus_tetRAD/tet_clust95/Mus_tet_clust95_pop35.tree.cons\").root(wildcard = \"Brimeura\")\n",
    "tet40 = toytree.tree(\"./Mus_Analysis/Mus_tetRAD/tet_clust95/Mus_tet_clust95_pop40.tree.cons\").root(wildcard = \"Brimeura\")\n",
    "\n",
    "## set dimensions of the canvas\n",
    "canvas = toyplot.Canvas(width = 2000, height = 2000)\n",
    "\n",
    "## dissect canvas into multiple cartesian areas (x1, x2, y1, y2)\n",
    "ax0 = canvas.cartesian(bounds=('2%',  '30%', '5%',  '47.5%'))\n",
    "ax1 = canvas.cartesian(bounds=('33%', '63%', '5%',  '47.5%'))\n",
    "ax2 = canvas.cartesian(bounds=('66%', '96%', '5%',  '47.5%'))\n",
    "ax3 = canvas.cartesian(bounds=('2%',  '30%', '50%', '97.5%'))\n",
    "ax4 = canvas.cartesian(bounds=('33%', '63%', '50%', '97.5%'))\n",
    "ax5 = canvas.cartesian(bounds=('66%', '96%', '50%', '97.5%'))\n",
    "\n",
    "## define style ones and use it for every tree\n",
    "style = {\n",
    "    \"tip_labels_align\": True,\n",
    "    \"tip_labels_style\": {\"font-size\": \"11px\"},\n",
    "    \"node_labels_style\":{\"font-size\": \"12px\",\n",
    "                        \"baseline-shift\": \"7px\",\n",
    "                        \"-toyplot-anchor-shift\": \"-13px\"},\n",
    "}\n",
    "tet15.ladderize(1).draw(\n",
    "    axes = ax0,\n",
    "    **style,\n",
    "    node_sizes = 0,\n",
    "    node_labels = 'support');\n",
    "\n",
    "tet20.ladderize(1).draw(\n",
    "    axes = ax1,\n",
    "    **style,\n",
    "    node_sizes = 0,\n",
    "    node_labels = 'support');\n",
    "\n",
    "tet25.ladderize(1).draw(\n",
    "    axes = ax2,\n",
    "    **style,\n",
    "    node_sizes = 0,\n",
    "    node_labels = 'support');\n",
    "\n",
    "tet30.ladderize(1).draw(\n",
    "    axes = ax3,\n",
    "    **style,\n",
    "    node_sizes = 0,\n",
    "    node_labels = 'support');\n",
    "\n",
    "tet35.ladderize(1).draw(\n",
    "    axes = ax4,\n",
    "    **style,\n",
    "    node_sizes = 0,\n",
    "    node_labels = 'support');\n",
    "\n",
    "tet40.ladderize(1).draw(\n",
    "    axes = ax5,\n",
    "    **style,\n",
    "    node_sizes = 0,\n",
    "    node_labels = 'support');\n",
    "\n",
    "## hide the axes (e.g, ticks and splines)\n",
    "ax0.show = False; ax1.show = False; ax2.show = False;\n",
    "ax3.show = False; ax4.show = False; ax5.show = False;\n",
    "\n",
    "## add names for the single trees\n",
    "canvas.text(1000, 50, 'tetRAD/SVDQuartet — Clustering threshold 95 %', style = {\"font-size\": \"24px\"})\n",
    "canvas.text(150, 125, '85 % missing data', style={\"font-size\": \"18px\"})\n",
    "canvas.text(800, 125, '80 % missing data', style={\"font-size\": \"18px\"})\n",
    "canvas.text(1450, 125, '75 % missing data', style={\"font-size\": \"18px\"})\n",
    "canvas.text(150, 1025, '70 % missing data', style={\"font-size\": \"18px\"})\n",
    "canvas.text(800, 1025, '65 % missing data', style={\"font-size\": \"18px\"})\n",
    "canvas.text(1450, 1025, '60 % missing data', style={\"font-size\": \"18px\"});"
   ]
  },
  {
   "cell_type": "code",
   "execution_count": null,
   "metadata": {},
   "outputs": [],
   "source": [
    "import toyplot.pdf\n",
    "toyplot.pdf.render(canvas, \"/home/tim/GBS/Muscari/Mus_Analysis/Mus_tetRAD/tetRAD_Figures/Suppl-Fig_Mus_tetRAD-consens_clust95_20210824_15-20-25-30-35-40_Anno.pdf\");"
   ]
  },
  {
   "cell_type": "markdown",
   "metadata": {},
   "source": [
    "#### Plot specific tetRAD trees\n",
    "##### Plot cloud tree with custom tip order"
   ]
  },
  {
   "cell_type": "code",
   "execution_count": 22,
   "metadata": {},
   "outputs": [],
   "source": [
    "treeorder = [\"Brimeura_amethystina_W6084\", \"Bellevalia_paradoxa_ED1272\",\n",
    "           \"Bellevalia_dubia_W6083\", \"Bellevalia_speciosa_W6085\",\n",
    "           \"Muscari_racemosum_ED1258\", \"Muscari_macrocarpum_ED1252\",\n",
    "           \"Pseudomuscari_chalusicum_ED1255\", \"Pseudomuscari_azureum_ED1270\",\n",
    "           \"Muscari_parviflorum_ED1245\", \"Pseudomuscari_inconstrictum_ED3234\",\n",
    "           \"Muscari_commutatum_ED3538\", \"Muscari_sivrihisardaghlarensis_ED1278\",\n",
    "           \"Muscari_anatolicum_W6087\", \"Muscari_vularlii_ED3232\",\n",
    "           \"Muscari_discolor_ED1266\", \"Pseudomuscari_pallens_ED1267\",\n",
    "           \"Pseudomuscari_coeruleum_ED1261\", \"Muscari_adilii_W6090\",\n",
    "           \"Muscari_armeniacum_ED1244\", \"Muscari_armeniacum_W6089\",\n",
    "           \"Muscari_neglectum_ED1253\", \"Muscari_baeticum_ED1281\",\n",
    "           \"Muscari_botryoides_ED1279\", \"Muscari_neglectum_ED1254\",\n",
    "           \"Muscari_pulchellum_ED3231\", \"Muscari_kerkis_ED1280\",\n",
    "           \"Muscari_bourgaei_ED1259\", \"Muscari_latifolium_ED1265\",\n",
    "           \"Leopoldia_tenuiflora_ED1263\", \"Leopoldia_longipes_ED3233\",\n",
    "           \"Muscari_massayanum_ED1251\", \"Leopoldia_neumannii_ED1243\",\n",
    "           \"Leopoldia_neumannii_ED1607\", \"Muscari_mirum_ED1250\",\n",
    "           \"Leopoldia_matritensis_ED1282\", \"Leopoldia_spreitzenhoferi_ED1248\",\n",
    "           \"Leopoldia_cycladica_W6082\", \"Leopoldia_weissii_W6081\",\n",
    "           \"Leopoldia_caucasica_ED1262\", \"Leopoldia_comosa_ED3539\",\n",
    "           \"Leopoldia_comosa_ED3965\", \"Leopoldia_comosa_ED1274\", \"Leopoldia_comosa_ED1256\"]"
   ]
  },
  {
   "cell_type": "code",
   "execution_count": null,
   "metadata": {
    "scrolled": false
   },
   "outputs": [],
   "source": [
    "## Load the 200 bootstrap trees from pops30 TetRad analysisis and root it\n",
    "tetcloud30 = toytree.mtree(\"/home/tim/GBS/Muscari/Mus_Analysis/Mus_tetRAD/tet_clust90/Mus_tet_clust90_pop30.tree.boots\")\n",
    "tetcloud30.treelist = [i.root([\"Brimeura_amethystina_W6084\"]) for i in tetcloud30.treelist]\n",
    "\n",
    "## plot the rooted bootstrap trees as a cloud tree\n",
    "canvas, axes, mark = tetcloud30.draw_cloud_tree(\n",
    "    height = 600,\n",
    "    width = 400,\n",
    "    \n",
    "    ## define a fix tree order to make it comparable with the cons tree\n",
    "    fixed_order = treeorder,\n",
    "    use_edge_lengths = False,\n",
    "    edge_style = {\"stroke-opacity\": 0.05,\n",
    "                  \"stroke-width\": 1}\n",
    ");\n"
   ]
  },
  {
   "cell_type": "markdown",
   "metadata": {},
   "source": [
    "#### Plot consensus tree against cloud tree"
   ]
  },
  {
   "cell_type": "code",
   "execution_count": null,
   "metadata": {},
   "outputs": [],
   "source": [
    "## Load TetRad tree and consensus tree and root ith with Brimeura\n",
    "constree30 = toytree.tree(\"./Mus_Analysis/Mus_tetRAD/tet_clust90/Mus_tet_clust90_pop30.tree.cons\" ).root(wildcard = \"Brimeura\")\n",
    "\n",
    "## Load TetRad bootstrap trees and root it with Brimeura\n",
    "tetcloud30 = toytree.mtree(\"/home/tim/GBS/Muscari/Mus_Analysis/Mus_tetRAD/tet_clust90/Mus_tet_clust90_pop30.tree.boots\")\n",
    "tetcloud30.treelist = [i.root([\"Brimeura_amethystina_W6084\"]) for i in tetcloud30.treelist]\n",
    "\n",
    "## set dimensions of the canvas\n",
    "canvas = toyplot.Canvas(width = 1300, height = 900)\n",
    "\n",
    "## dissect canvas into multiple cartesian areas (x1, x2, y1, y2)\n",
    "ax0 = canvas.cartesian(bounds=('5%',  '47.5%', '5%',  '95%'))\n",
    "ax1 = canvas.cartesian(bounds=('52.5%', '95%', '5%',  '95%'))\n",
    "\n",
    "# call draw with the 'axes' argument to pass it to a specific cartesian area\n",
    "style = {\"tip_labels_align\": True,\n",
    "         \"tip_labels_style\": {\"font-size\": \"12px\"},\n",
    "         \"node_labels_style\":{\"font-size\": \"12px\",\n",
    "                              \"baseline-shift\": \"7px\",\n",
    "                              \"-toyplot-anchor-shift\": \"-13px\"},\n",
    "}\n",
    "\n",
    "cstyle = {\"tip_labels_align\": True,\n",
    "          \"layout\": 'l',\n",
    "          \"tip_labels_style\": {\"font-size\": \"12px\"},\n",
    "          \"node_labels_style\":{\"font-size\": \"12px\",\n",
    "                               \"baseline-shift\": \"7px\",\n",
    "                               \"-toyplot-anchor-shift\": \"-13px\"},\n",
    "}\n",
    "\n",
    "constree30.ladderize(1).draw(\n",
    "    axes = ax0,\n",
    "    **style,\n",
    "    node_sizes = 0,\n",
    "    node_labels = 'support');\n",
    "\n",
    "## plot the rooted bootstrap trees as a cloud tree\n",
    "tetcloud30.draw_cloud_tree(\n",
    "    axes = ax1,\n",
    "    fixed_order = treeorder,  ## define a fix tree order to make it comparable with the cons tree\n",
    "    **cstyle,\n",
    "    use_edge_lengths = False,\n",
    "    #tip_labels = False,\n",
    "    edge_style = {\"stroke-opacity\": 0.05,\n",
    "                  \"stroke-width\": 1}\n",
    ");\n",
    "\n",
    "# hide the axes (e.g, ticks and splines)\n",
    "ax0.show = False; ax1.show = False;"
   ]
  },
  {
   "cell_type": "code",
   "execution_count": 38,
   "metadata": {},
   "outputs": [],
   "source": [
    "import toyplot.pdf\n",
    "toyplot.pdf.render(canvas, \"/home/tim/GBS/Muscari/Mus_Analysis/Mus_tetRAD/tetRAD_Figures/Fig_Mus_tet_clust90_cons-cloud_20210816_pops30.pdf\");"
   ]
  },
  {
   "cell_type": "markdown",
   "metadata": {},
   "source": [
    "#### plot RAxML tree against tetRAD consensus tree"
   ]
  },
  {
   "cell_type": "code",
   "execution_count": null,
   "metadata": {},
   "outputs": [],
   "source": [
    "## Load TetRad tree and consensus tree and root ith with Brimeura\n",
    "#constree30 = toytree.tree(\"./Mus_Analysis/Mus_tetRAD/tet_clust90/Mus_tet_clust90_pop30.tree.cons\" ).root(wildcard = \"Brimeura\")\n",
    "constree30 = toytree.tree(\"/home/tim/GBS/Muscari/Mus_Analysis/Mus_tetRAD/tet_clust85/Mus_tet_pop20.tree.cons\").root(wildcard = \"Brimeura\")\n",
    "\n",
    "tre = toytree.tree(\"/home/tim/GBS/Muscari/Mus_Analysis/Mus_RAxML/Mus_RAxML_clust85_20210812/RAxML_bipartitions.pops_20.phy\")\n",
    "rtre = tre.root(wildcard = \"Brimeura\")\n",
    "\n",
    "## Define the leucantha clade to be rotated in the tree\n",
    "comosa = [\"Leopoldia_cycladica_W6082\", \"Leopoldia_weissii_W6081\", \n",
    "          \"Leopoldia_spreitzenhoferi_ED1248\", \"Leopoldia_matritensis_ED1282\", \"Leopoldia_caucasica_ED1262\"]\n",
    "\n",
    "## set dimensions of the canvas\n",
    "canvas = toyplot.Canvas(width = 1400, height = 900)\n",
    "\n",
    "## dissect canvas into multiple cartesian areas (x1, x2, y1, y2)\n",
    "ax0 = canvas.cartesian(bounds=('5%',  '60%', '5%',  '95%'))\n",
    "ax1 = canvas.cartesian(bounds=('57.5%', '95%', '5%',  '95%'))\n",
    "\n",
    "# call draw with the 'axes' argument to pass it to a specific cartesian area\n",
    "style = {\"tip_labels_align\": True,\n",
    "         \"tip_labels_style\": {\"font-size\": \"12px\"},\n",
    "         \"node_labels_style\":{\"font-size\": \"12px\",\n",
    "                              \"baseline-shift\": \"7px\",\n",
    "                              \"-toyplot-anchor-shift\": \"-13px\"},\n",
    "}\n",
    "\n",
    "cstyle = {\"tip_labels_align\": True,\n",
    "          \"layout\": 'l',\n",
    "          \"tip_labels_style\": {\"font-size\": \"12px\"},\n",
    "          \"node_labels_style\":{\"font-size\": \"12px\",\n",
    "                               \"baseline-shift\": \"7px\",\n",
    "                               \"-toyplot-anchor-shift\": \"13px\"},\n",
    "}\n",
    "\n",
    "#rotate_node(wildcard = \"comosa\").\n",
    "\n",
    "rtre.ladderize(1).draw(\n",
    "    axes = ax0,\n",
    "    **style,\n",
    "    node_labels = 'support',\n",
    "    node_sizes = 0,\n",
    "    );\n",
    "\n",
    "\n",
    "\n",
    "constree30.ladderize(1).draw(\n",
    "    axes = ax1,\n",
    "    **cstyle,\n",
    "    node_sizes = 0,\n",
    "    node_labels = 'support');\n",
    "\n",
    "#\n",
    "# hide the axes (e.g, ticks and splines)\n",
    "ax0.show = False; ax1.show = False;"
   ]
  },
  {
   "cell_type": "code",
   "execution_count": null,
   "metadata": {},
   "outputs": [],
   "source": [
    "import toyplot.pdf\n",
    "toyplot.pdf.render(canvas, \"/home/tim/GBS/Muscari/Mus_Analysis/FiguresForPaper/Fig_Mus_RAxML_tet_clust85_pops30.pdf\");"
   ]
  },
  {
   "cell_type": "markdown",
   "metadata": {},
   "source": [
    "## 2. Principle component analysis (PCA) of ***Muscari*** with outgroups removed\n"
   ]
  },
  {
   "cell_type": "code",
   "execution_count": null,
   "metadata": {},
   "outputs": [],
   "source": [
    "## load the hdf5 data for the STRUCTURE analysis\n",
    "dataclust90 = \"/home/tim/GBS/Muscari/Mus_Assembly/nout_clust90_outfiles/nout_clust90.snps.hdf5\""
   ]
  },
  {
   "cell_type": "markdown",
   "metadata": {},
   "source": [
    "Assign the samples into five clades according the results of the phylogentic reconstructions."
   ]
  },
  {
   "cell_type": "code",
   "execution_count": 34,
   "metadata": {},
   "outputs": [],
   "source": [
    "# group individuals into populations\n",
    "imap = {\n",
    "    \"Leop\": [\"Leopoldia_tenuiflora_ED1263\", \"Muscari_massayanum_ED1251\", \"Leopoldia_longipes_ED3233\", \n",
    "             \"Leopoldia_neumannii_ED1243\", \"Leopoldia_neumannii_ED1607\", \"Muscari_mirum_ED1250\",\n",
    "             \"Leopoldia_caucasica_ED1262\", \"Leopoldia_matritensis_ED1282\", \"Leopoldia_comosa_ED3539\",\n",
    "             \"Leopoldia_comosa_ED1274\", \"Leopoldia_comosa_ED3965\", \"Leopoldia_comosa_ED1256\",\n",
    "             \"Leopoldia_weissii_W6081\", \"Leopoldia_weissii_ED1608\", \"Leopoldia_cycladica_W6082\",\n",
    "             \"Leopoldia_spreitzenhoferi_ED1248\"],\n",
    "    \"Musc\": [\"Pseudomuscari_pallens_ED1267\", \"Pseudomuscari_coeruleum_ED1261\", \n",
    "             \"Muscari_sivrihisardaghlarensis_ED1278\", \"Muscari_anatolicum_W6087\", \"Muscari_vularlii_ED3232\",\n",
    "             \"Muscari_discolor_ED1266\", \"Muscari_adilii_W6090\", \"Muscari_armeniacum_ED1244\", \n",
    "             \"Muscari_armeniacum_W6089\", \"Muscari_neglectum_ED1253\", \"Muscari_neglectum_ED1254\",\n",
    "             \"Muscari_baeticum_ED1281\", \"Muscari_botryoides_ED1279\", \"Muscari_commutatum_ED3538\"],\n",
    "    \"Pull\": [\"Muscari_pulchellum_ED3231\", \"Muscari_kerkis_ED1280\", \"Muscari_bourgaei_ED1259\", \"Muscari_latifolium_ED1265\"],\n",
    "    \"Pseu\": [\"Pseudomuscari_chalusicum_ED1255\", \"Pseudomuscari_inconstrictum_ED3234\",\n",
    "             \"Pseudomuscari_azureum_ED1270\", \"Muscari_parviflorum_ED1245\"],\n",
    "    \"Mosc\": [\"Muscari_racemosum_ED1258\", \"Muscari_macrocarpum_ED1252\"],\n",
    "}\n",
    "\n",
    "# require that 50% of samples have data in each group\n",
    "minmap = {i: 0.5 for i in imap}"
   ]
  },
  {
   "cell_type": "markdown",
   "metadata": {},
   "source": [
    "Run a first PCA analysis to test different paramter settings and to see if results are stable."
   ]
  },
  {
   "cell_type": "code",
   "execution_count": null,
   "metadata": {},
   "outputs": [],
   "source": [
    "# init pca object with input data and (optional) parameter options\n",
    "pca = ipa.pca(\n",
    "    data = data,\n",
    "    imap = imap,\n",
    "    minmap = minmap,\n",
    "    mincov = 0.25,\n",
    "    impute_method = \"sample\",\n",
    ")"
   ]
  },
  {
   "cell_type": "code",
   "execution_count": null,
   "metadata": {},
   "outputs": [],
   "source": [
    "# run the PCA analysis\n",
    "pca.run()"
   ]
  },
  {
   "cell_type": "code",
   "execution_count": null,
   "metadata": {},
   "outputs": [],
   "source": [
    "## store the PC axes as a dataframe\n",
    "df = pd.DataFrame(pca.pcaxes[0], index=pca.names)\n",
    "\n",
    "## write the PC axes to a CSV file\n",
    "df.to_csv(\"pca_analysis.csv\")\n",
    "\n",
    "## show the first ten samples and the first 10 PC axes\n",
    "df.iloc[:10, :10].round(2)"
   ]
  },
  {
   "cell_type": "markdown",
   "metadata": {},
   "source": [
    "### Running a PCA with subsampling of replications with unlinked SNPs\n",
    "This was used for publication."
   ]
  },
  {
   "cell_type": "code",
   "execution_count": null,
   "metadata": {},
   "outputs": [],
   "source": [
    "## init pca object\n",
    "pca2 = ipa.pca(\n",
    "    data = data,\n",
    "    imap = imap,\n",
    "    minmap = minmap,\n",
    "    mincov = 0.5,\n",
    "    impute_method = \"sample\",\n",
    ")\n",
    "\n",
    "## run and draw results for impute_method=None and mincov=1.0\n",
    "pca2.run(nreplicates = 25, seed = 123)\n",
    "\n",
    "## plot different combinations\n",
    "pca2.draw(0, 2);\n",
    "pca2.draw(0, 1);"
   ]
  },
  {
   "cell_type": "code",
   "execution_count": null,
   "metadata": {},
   "outputs": [],
   "source": [
    "pca.draw(outfile = \"/home/tim/GBS/Muscari/Mus_Analysis/FiguresForPaper/Fig_Mus_PCA.pdf\");"
   ]
  }
 ],
 "metadata": {
  "interpreter": {
   "hash": "bce2d10f14179a2e73900a4f6cfebb0d13fbe648b1a72f187a6e57a5aee1236b"
  },
  "kernelspec": {
   "display_name": "Python 3.7.9 64-bit ('ipyrad095': conda)",
   "language": "python",
   "name": "python3"
  },
  "language_info": {
   "codemirror_mode": {
    "name": "ipython",
    "version": 3
   },
   "file_extension": ".py",
   "mimetype": "text/x-python",
   "name": "python",
   "nbconvert_exporter": "python",
   "pygments_lexer": "ipython3",
   "version": "3.9.7"
  }
 },
 "nbformat": 4,
 "nbformat_minor": 4
}
